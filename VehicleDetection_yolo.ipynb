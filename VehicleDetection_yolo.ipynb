{
 "cells": [
  {
   "cell_type": "code",
   "execution_count": 2,
   "metadata": {},
   "outputs": [],
   "source": [
    "import pyyolo\n",
    "import numpy as np\n",
    "import sys\n",
    "import cv2\n",
    "from scipy.ndimage.measurements import label\n",
    "import matplotlib.image as mpimg\n",
    "import matplotlib.pyplot as plt\n",
    "import collections\n",
    "\n",
    "q= collections.deque(maxlen=10)"
   ]
  },
  {
   "cell_type": "code",
   "execution_count": 3,
   "metadata": {},
   "outputs": [],
   "source": [
    "darknet_path = './darknet'\n",
    "datacfg = 'cfg/coco.data'\n",
    "cfgfile = 'cfg/tiny-yolo.cfg'\n",
    "weightfile = '../tiny-yolo.weights'\n",
    "thresh = 0.24\n",
    "hier_thresh = 0.5\n",
    "\n",
    "pyyolo.init(darknet_path, datacfg, cfgfile, weightfile)\n"
   ]
  },
  {
   "cell_type": "code",
   "execution_count": 4,
   "metadata": {},
   "outputs": [],
   "source": [
    "def yolo_predict(image):\n",
    "    cv2.imwrite('temp.jpg',image)\n",
    "    outputs = pyyolo.test('temp.jpg', thresh, hier_thresh, 0)\n",
    "    bbox=[]\n",
    "    for output in outputs:\n",
    "        if(output['class']=='car'):\n",
    "            bbox.append(((output['left'], output['top']),(output['right'], output['bottom'])))\n",
    "        #print(output)\n",
    "        #print('left',output['left'],'top',output['top'])\n",
    "        #print('right',output['right'],'bottom',output['bottom'])\n",
    "        #cv2.rectangle(img, (output['left'], output['top']), (output['right'], output['bottom']), (255,0,0), 2)\n",
    "        #cv2.imwrite(\"./op/\"+filename,img)\n",
    "    return bbox"
   ]
  },
  {
   "cell_type": "code",
   "execution_count": 5,
   "metadata": {},
   "outputs": [],
   "source": [
    "# Define a function to draw bounding boxes\n",
    "def draw_boxes(img, bboxes, color=(0, 0, 255), thick=6):\n",
    "    # Make a copy of the image\n",
    "    imcopy = np.copy(img)\n",
    "    # Iterate through the bounding boxes\n",
    "    for bbox in bboxes:\n",
    "        # Draw a rectangle given bbox coordinates\n",
    "        cv2.rectangle(imcopy, bbox[0], bbox[1], color, thick)\n",
    "    # Return the image copy with boxes drawn\n",
    "    return imcopy\n",
    "\n",
    "def add_heat(heatmap, bbox_list):\n",
    "    # Iterate through list of bboxes\n",
    "    for box in bbox_list:\n",
    "        # Add += 1 for all pixels inside each bbox\n",
    "        # Assuming each \"box\" takes the form ((x1, y1), (x2, y2))\n",
    "        heatmap[box[0][1]:box[1][1], box[0][0]:box[1][0]] += 1\n",
    "\n",
    "    # Return updated heatmap\n",
    "    return heatmap# Iterate through list of bboxes\n",
    "    \n",
    "def apply_threshold(heatmap, threshold):\n",
    "    # Zero out pixels below the threshold\n",
    "    heatmap[heatmap <= threshold] = 0\n",
    "    # Return thresholded map\n",
    "    return heatmap\n",
    "\n",
    "def draw_labeled_bboxes(img, labels):\n",
    "    # Iterate through all detected cars\n",
    "    for car_number in range(1, labels[1]+1):\n",
    "        # Find pixels with each car_number label value\n",
    "        nonzero = (labels[0] == car_number).nonzero()\n",
    "        # Identify x and y values of those pixels\n",
    "        nonzeroy = np.array(nonzero[0])\n",
    "        nonzerox = np.array(nonzero[1])\n",
    "        # Define a bounding box based on min/max x and y\n",
    "        bbox = ((np.min(nonzerox), np.min(nonzeroy)), (np.max(nonzerox), np.max(nonzeroy)))\n",
    "        # Draw the box on the image\n",
    "        cv2.rectangle(img, bbox[0], bbox[1], (0,0,255), 6)\n",
    "    # Return the image\n",
    "    return img\n"
   ]
  },
  {
   "cell_type": "code",
   "execution_count": 9,
   "metadata": {},
   "outputs": [],
   "source": [
    "import time\n",
    "def pipeline1(image):\n",
    "    draw_img = np.copy(image)\n",
    "    \n",
    "    res=[]\n",
    "    \n",
    "    hot_windows = yolo_predict(image)\n",
    "    \n",
    "                    \n",
    "    #print(hot_windows)\n",
    "#     if(len(hot_windows)>0):\n",
    "#         res.append(hot_windows)\n",
    "        #print(hot_windows)\n",
    "        #print(res.shape)\n",
    "\n",
    "    #print(res)\n",
    "#     ans=[]\n",
    "#     ans.append(res[0])\n",
    "#     for i in res[1:]:\n",
    "#         ans[0]+=i\n",
    "    #print(ans[0])\n",
    "\n",
    "    #window_img = draw_boxes(draw_image, hot_windows, color=(0, 0, 255), thick=6)                    \n",
    "    window_img = draw_boxes(draw_img, hot_windows, color=(0, 0, 255), thick=6)  \n",
    "    heat = np.zeros_like(image[:,:,0]).astype(np.float)\n",
    "    heat = add_heat(heat,hot_windows)\n",
    "    \n",
    "    q.append(heat)\n",
    "    if(len(q)==10):\n",
    "        \n",
    "        heat=np.sum(q,axis=0)\n",
    "       \n",
    "\n",
    "        # Apply threshold to help remove false positives\n",
    "        heat = apply_threshold(heat,8)\n",
    "\n",
    "        # Visualize the heatmap when displaying    \n",
    "        heatmap = np.clip(heat, 0, 255)\n",
    "\n",
    "        # Find final boxes from heatmap using label function\n",
    "        labels = label(heatmap)\n",
    "        draw_img = draw_labeled_bboxes(np.copy(image), labels)\n",
    "    #cv2.imwrite('./tes/'+str(time.time())+'.jpg',window_img)\n",
    "    \n",
    "    return window_img\n",
    "  "
   ]
  },
  {
   "cell_type": "code",
   "execution_count": 7,
   "metadata": {},
   "outputs": [],
   "source": [
    "#!sudo pip install moviepy"
   ]
  },
  {
   "cell_type": "code",
   "execution_count": 10,
   "metadata": {},
   "outputs": [
    {
     "name": "stdout",
     "output_type": "stream",
     "text": [
      "Imageio: 'ffmpeg.linux64' was not found on your computer; downloading it now.\n",
      "Try 1. Download from https://github.com/imageio/imageio-binaries/raw/master/ffmpeg/ffmpeg.linux64 (27.2 MB)\n",
      "Downloading: 8192/28549024 bytes (0.016384/28549024 bytes (0.1%32768/28549024 bytes (0.1%65536/28549024 bytes (0.2%98304/28549024 bytes (0.3%131072/28549024 bytes (0.5163840/28549024 bytes (0.6196608/28549024 bytes (0.7229376/28549024 bytes (0.8245760/28549024 bytes (0.9294912/28549024 bytes (1.0327680/28549024 bytes (1.1393216/28549024 bytes (1.4409600/28549024 bytes (1.4442368/28549024 bytes (1.5507904/28549024 bytes (1.8606208/28549024 bytes (2.1720896/28549024 bytes (2.5819200/28549024 bytes (2.9950272/28549024 bytes (3.31081344/28549024 bytes (3.8%1212416/28549024 bytes (4.2%1343488/28549024 bytes (4.7%1474560/28549024 bytes (5.2%1622016/28549024 bytes (5.7%1785856/28549024 bytes (6.3%1933312/28549024 bytes (6.8%2080768/28549024 bytes (7.3%2228224/28549024 bytes (7.8%2375680/28549024 bytes (8.3%2523136/28549024 bytes (8.8%2686976/28549024 bytes (9.4%2834432/28549024 bytes (9.9%2973696/28549024 bytes (10.43104768/28549024 bytes (10.93211264/28549024 bytes (11.23342336/28549024 bytes (11.73457024/28549024 bytes (12.13571712/28549024 bytes (12.53686400/28549024 bytes (12.93817472/28549024 bytes (13.43948544/28549024 bytes (13.84063232/28549024 bytes (14.24202496/28549024 bytes (14.74308992/28549024 bytes (15.14440064/28549024 bytes (15.64587520/28549024 bytes (16.14734976/28549024 bytes (16.64866048/28549024 bytes (17.05013504/28549024 bytes (17.65177344/28549024 bytes (18.15341184/28549024 bytes (18.75505024/28549024 bytes (19.35668864/28549024 bytes (19.95816320/28549024 bytes (20.45963776/28549024 bytes (20.96111232/28549024 bytes (21.46242304/28549024 bytes (21.96406144/28549024 bytes (22.46553600/28549024 bytes (23.06701056/28549024 bytes (23.56848512/28549024 bytes (24.06995968/28549024 bytes (24.57143424/28549024 bytes (25.07290880/28549024 bytes (25.57421952/28549024 bytes (26.07553024/28549024 bytes (26.57667712/28549024 bytes (26.97766016/28549024 bytes (27.27897088/28549024 bytes (27.78028160/28549024 bytes (28.18159232/28549024 bytes (28.68290304/28549024 bytes (29.08421376/28549024 bytes (29.58585216/28549024 bytes (30.18749056/28549024 bytes (30.68912896/28549024 bytes (31.29093120/28549024 bytes (31.99256960/28549024 bytes (32.49412608/28549024 bytes (33.09584640/28549024 bytes (33.69764864/28549024 bytes (34.29945088/28549024 bytes (34.810125312/28549024 bytes (35.5%10289152/28549024 bytes (36.0%10469376/28549024 bytes (36.7%10633216/28549024 bytes (37.2%10813440/28549024 bytes (37.9%10993664/28549024 bytes (38.5%11173888/28549024 bytes (39.1%11337728/28549024 bytes (39.7%11501568/28549024 bytes (40.3%11698176/28549024 bytes (41.0%11878400/28549024 bytes (41.6%12075008/28549024 bytes (42.3%12271616/28549024 bytes (43.0%12419072/28549024 bytes (43.5%12582912/28549024 bytes (44.1%12746752/28549024 bytes (44.6%12910592/28549024 bytes (45.2%13074432/28549024 bytes (45.8%13221888/28549024 bytes (46.3%13369344/28549024 bytes (46.8%13500416/28549024 bytes (47.3%13565952/28549024 bytes (47.5%14540800/28549024 bytes (50.9%14688256/28549024 bytes (51.4%14852096/28549024 bytes (52.0%14983168/28549024 bytes (52.5%15130624/28549024 bytes (53.0%15278080/28549024 bytes (53.5%15409152/28549024 bytes (54.0%15540224/28549024 bytes (54.4%15704064/28549024 bytes (55.0%15851520/28549024 bytes (55.5%15998976/28549024 bytes (56.0%16162816/28549024 bytes (56.6%16293888/28549024 bytes (57.1%16424960/28549024 bytes (57.5%16556032/28549024 bytes (58.0%16687104/28549024 bytes (58.5%16818176/28549024 bytes (58.9%16965632/28549024 bytes (59.4%17113088/28549024 bytes (59.9%17260544/28549024 bytes (60.5%17391616/28549024 bytes (60.9%17489920/28549024 bytes (61.3%17620992/28549024 bytes (61.7%17752064/28549024 bytes (62.2%17883136/28549024 bytes (62.6%18014208/28549024 bytes (63.1%18128896/28549024 bytes (63.5%18259968/28549024 bytes (64.0%18391040/28549024 bytes (64.4%18489344/28549024 bytes (64.8%19341312/28549024 bytes (67.7%19472384/28549024 bytes (68.2%19587072/28549024 bytes (68.6%19668992/28549024 bytes (68.9%19734528/28549024 bytes (69.1%19849216/28549024 bytes (69.5%19963904/28549024 bytes (69.9%20094976/28549024 bytes (70.4%20193280/28549024 bytes (70.7%20307968/28549024 bytes (71.1%20406272/28549024 bytes (71.5%20504576/28549024 bytes (71.8%20619264/28549024 bytes (72.2%20750336/28549024 bytes (72.7%20865024/28549024 bytes (73.1%20996096/28549024 bytes (73.5%21127168/28549024 bytes (74.0%21241856/28549024 bytes (74.4%21307392/28549024 bytes (74.6%21422080/28549024 bytes (75.0%21454848/28549024 bytes (75.2%21536768/28549024 bytes (75.4%21651456/28549024 bytes (75.8%21782528/28549024 bytes (76.3%21913600/28549024 bytes (76.8%22061056/28549024 bytes (77.3%22192128/28549024 bytes (77.7%22323200/28549024 bytes (78.2%22437888/28549024 bytes (78.6%22552576/28549024 bytes (79.0%22667264/28549024 bytes (79.4%22765568/28549024 bytes (79.7%22831104/28549024 bytes (80.0%22896640/28549024 bytes (80.2%22962176/28549024 bytes (80.4%23060480/28549024 bytes (80.8%23175168/28549024 bytes (81.2%23306240/28549024 bytes (81.6%23420928/28549024 bytes (82.0%23535616/28549024 bytes (82.4%23650304/28549024 bytes (82.8%23781376/28549024 bytes (83.3%23912448/28549024 bytes (83.8%24027136/28549024 bytes (84.2%24150016/28549024 bytes (84.6%24272896/28549024 bytes (85.0%24387584/28549024 bytes (85.4%24518656/28549024 bytes (85.9%24633344/28549024 bytes (86.3%24748032/28549024 bytes (86.7%24862720/28549024 bytes (87.1%24977408/28549024 bytes (87.5%25092096/28549024 bytes (87.9%25206784/28549024 bytes (88.3%25321472/28549024 bytes (88.7%25452544/28549024 bytes (89.2%25567232/28549024 bytes (89.6%25681920/28549024 bytes (90.0%25812992/28549024 bytes (90.4%25944064/28549024 bytes (90.9%26058752/28549024 bytes (91.3%26173440/28549024 bytes (91.7%26271744/28549024 bytes (92.0%26386432/28549024 bytes (92.4%26517504/28549024 bytes (92.9%26632192/28549024 bytes (93.3%26746880/28549024 bytes (93.7%26877952/28549024 bytes (94.1%26992640/28549024 bytes (94.5%27090944/28549024 bytes (94.9%27156480/28549024 bytes (95.1%27222016/28549024 bytes (95.4%27336704/28549024 bytes (95.8%27435008/28549024 bytes (96.1%27680768/28549024 bytes (97.0%27795456/28549024 bytes (97.4%27926528/28549024 bytes (97.8%28041216/28549024 bytes (98.2%28172288/28549024 bytes (98.7%28286976/28549024 bytes (99.1%28385280/28549024 bytes (99.4%28516352/28549024 bytes (99.9%28549024/28549024 bytes (100.0%)\n",
      "  Done\n",
      "File saved as /home/sudheer/.imageio/ffmpeg/ffmpeg.linux64.\n"
     ]
    }
   ],
   "source": [
    "# Import everything needed to edit/save/watch video clips\n",
    "import imageio \n",
    "imageio.plugins.ffmpeg.download()\n",
    "from moviepy.editor import VideoFileClip\n",
    "from IPython.display import HTML\n"
   ]
  },
  {
   "cell_type": "code",
   "execution_count": 11,
   "metadata": {
    "scrolled": true
   },
   "outputs": [
    {
     "name": "stdout",
     "output_type": "stream",
     "text": [
      "[MoviePy] >>>> Building video yolo_output.mp4\n",
      "[MoviePy] Writing video yolo_output.mp4\n"
     ]
    },
    {
     "name": "stderr",
     "output_type": "stream",
     "text": [
      "100%|█████████▉| 1260/1261 [1:54:00<00:06,  6.28s/it]\n"
     ]
    },
    {
     "name": "stdout",
     "output_type": "stream",
     "text": [
      "[MoviePy] Done.\n",
      "[MoviePy] >>>> Video ready: yolo_output.mp4 \n",
      "\n",
      "CPU times: user 1h 51min 49s, sys: 1min 39s, total: 1h 53min 29s\n",
      "Wall time: 1h 54min 3s\n"
     ]
    }
   ],
   "source": [
    "ind=0\n",
    "white_output = 'yolo_output.mp4'\n",
    "## To speed up the testing process you may want to try your pipeline on a shorter subclip of the video\n",
    "## To do so add .subclip(start_second,end_second) to the end of the line below\n",
    "## Where start_second and end_second are integer values representing the start and end of the subclip\n",
    "## You may also uncomment the following line for a subclip of the first 5 seconds\n",
    "##clip1 = VideoFileClip(\"test_videos/solidWhiteRight.mp4\").subclip(0,5)\n",
    "clip1 = VideoFileClip(\"project_video.mp4\")\n",
    "white_clip = clip1.fl_image(pipeline1) #NOTE: this function expects color images!!\n",
    "%time white_clip.write_videofile(white_output, audio=False)"
   ]
  },
  {
   "cell_type": "code",
   "execution_count": null,
   "metadata": {},
   "outputs": [],
   "source": []
  }
 ],
 "metadata": {
  "kernelspec": {
   "display_name": "Python 2",
   "language": "python",
   "name": "python2"
  },
  "language_info": {
   "codemirror_mode": {
    "name": "ipython",
    "version": 2
   },
   "file_extension": ".py",
   "mimetype": "text/x-python",
   "name": "python",
   "nbconvert_exporter": "python",
   "pygments_lexer": "ipython2",
   "version": "2.7.12"
  },
  "widgets": {
   "state": {},
   "version": "1.1.2"
  }
 },
 "nbformat": 4,
 "nbformat_minor": 2
}
